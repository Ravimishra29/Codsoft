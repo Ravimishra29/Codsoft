{
 "cells": [
  {
   "cell_type": "code",
   "execution_count": 12,
   "id": "fba4ef22",
   "metadata": {},
   "outputs": [],
   "source": [
    "from tkinter import *\n",
    "from tkinter import messagebox\n",
    "\n",
    "t = Tk()\n",
    "t.geometry(\"550x480\")\n",
    "t.title(\"To-Do list\")\n",
    "t.config(bg=\"black\")\n",
    "t.resizable(False,False)\n",
    "\n",
    "frame = Frame(t)\n",
    "frame.pack(pady=10)\n",
    "\n",
    "\n",
    "lb = Listbox(frame,width=26,height=9,font=(\"arial\",16,\"bold\"),bd=8,fg=\"black\",highlightthickness=0,selectbackground=\"gray\",activestyle=\"none\",)\n",
    "lb.pack(side=LEFT, fill=BOTH)\n",
    "\n",
    "task_list = []\n",
    "\n",
    "for item in task_list:\n",
    "    lb.insert(END, item)\n",
    "\n",
    "\n",
    "sb = Scrollbar(frame)\n",
    "sb.pack(side=RIGHT, fill=BOTH)\n",
    "\n",
    "lb.config(yscrollcommand=sb.set)\n",
    "sb.config(command=lb.yview)\n",
    "\n",
    "\n",
    "my_entry = Entry(t,width=30, font=(\"arial\",16,\"bold\"),bd=8)\n",
    "my_entry.pack(pady=20)\n",
    "\n",
    "\n",
    "button_frame = Frame(t)\n",
    "button_frame.pack(pady=20)\n",
    "\n",
    "\n",
    "def newTask():\n",
    "    task = my_entry.get()\n",
    "    if task != \"\":\n",
    "        lb.insert(END, task)\n",
    "        my_entry.delete(0, \"end\")\n",
    "    else:\n",
    "        messagebox.showwarning(\"Warning\", \"Enter task.\")\n",
    "\n",
    "\n",
    "AddTask = Button(button_frame,text=\"Add Task\",font=(\"arial\",15,\"bold\"),bd=10,bg=\"orange\",padx=20,pady=10,command=newTask)\n",
    "AddTask.pack(fill=BOTH, expand=True, side=LEFT)\n",
    "\n",
    "\n",
    "def deleteTask():\n",
    "    lb.delete(ANCHOR)\n",
    "\n",
    "delTask_btn = Button(button_frame,text=\"Delete Task\",font=(\"arial\",15,\"bold\"),bd=10,bg=\"Red\",padx=20,pady=10,command=deleteTask)\n",
    "delTask_btn.pack(fill=BOTH, expand=True, side=LEFT)\n",
    "\n",
    "t.mainloop()"
   ]
  },
  {
   "cell_type": "code",
   "execution_count": null,
   "id": "9153496b",
   "metadata": {},
   "outputs": [],
   "source": []
  },
  {
   "cell_type": "code",
   "execution_count": null,
   "id": "9716baa8",
   "metadata": {},
   "outputs": [],
   "source": []
  }
 ],
 "metadata": {
  "kernelspec": {
   "display_name": "Python 3 (ipykernel)",
   "language": "python",
   "name": "python3"
  },
  "language_info": {
   "codemirror_mode": {
    "name": "ipython",
    "version": 3
   },
   "file_extension": ".py",
   "mimetype": "text/x-python",
   "name": "python",
   "nbconvert_exporter": "python",
   "pygments_lexer": "ipython3",
   "version": "3.11.4"
  }
 },
 "nbformat": 4,
 "nbformat_minor": 5
}
